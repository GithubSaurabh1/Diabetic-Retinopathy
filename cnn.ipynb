{
 "cells": [
  {
   "cell_type": "markdown",
   "metadata": {},
   "source": [
    "# Diabetic Retinopathy Detection"
   ]
  },
  {
   "cell_type": "code",
   "execution_count": 1,
   "metadata": {},
   "outputs": [
    {
     "name": "stdout",
     "output_type": "stream",
     "text": [
      "{'Mild': 0, 'Moderate': 1, 'No_DR': 2, 'Proliferate_DR': 3, 'Severe': 4}\n",
      "['Mild', 'Moderate', 'No_DR', 'Proliferate_DR', 'Severe']\n",
      "[0, 1, 2, 3, 4]\n"
     ]
    }
   ],
   "source": [
    "import cv2,os\n",
    "data_path='dataset/'\n",
    "categories=os.listdir(data_path)\n",
    "\n",
    "labels=[i for i in range(len(categories))]\n",
    "\n",
    "label_dict=dict(zip(categories,labels)) #empty dictionary\n",
    "print(label_dict)\n",
    "print(categories)\n",
    "print(labels)"
   ]
  },
  {
   "cell_type": "code",
   "execution_count": 2,
   "metadata": {
    "executionInfo": {
     "elapsed": 5512,
     "status": "ok",
     "timestamp": 1624607253016,
     "user": {
      "displayName": "NOUMAN AHMAD",
      "photoUrl": "https://lh3.googleusercontent.com/a-/AOh14GhcQ3BpK0-GAMrjLlr__tOqeFHLlT11IEFK0ztPsVY=s64",
      "userId": "11031044337039581497"
     },
     "user_tz": -300
    },
    "id": "BScfeIRlTtlL"
   },
   "outputs": [],
   "source": [
    "img_size_x=224\n",
    "img_size_y=224\n",
    "data=[]\n",
    "label=[]\n",
    "\n",
    "for category in categories:\n",
    "    folder_path=os.path.join(data_path,category)\n",
    "    img_names=os.listdir(folder_path)\n",
    "        \n",
    "    for img_name in img_names:\n",
    "        img_path=os.path.join(folder_path,img_name)\n",
    "        img=cv2.imread(img_path)\n",
    "        try:\n",
    "            gray = cv2.cvtColor(img, cv2.COLOR_BGR2GRAY)  \n",
    "            resized=cv2.resize(gray,(img_size_x,img_size_y))\n",
    "            data.append(resized)\n",
    "            label.append(label_dict[category])\n",
    "            #appending the image and the label(categorized) into the list (dataset)\n",
    "        except Exception as e:\n",
    "            print('Exception:',e)\n",
    "            #if any exception rasied, the exception will be printed here. And pass to the next image"
   ]
  },
  {
   "cell_type": "markdown",
   "metadata": {
    "id": "mYQHryCXVQa9"
   },
   "source": [
    "# Recale and assign  catagorical labels"
   ]
  },
  {
   "cell_type": "code",
   "execution_count": 3,
   "metadata": {
    "executionInfo": {
     "elapsed": 377,
     "status": "ok",
     "timestamp": 1624607287285,
     "user": {
      "displayName": "NOUMAN AHMAD",
      "photoUrl": "https://lh3.googleusercontent.com/a-/AOh14GhcQ3BpK0-GAMrjLlr__tOqeFHLlT11IEFK0ztPsVY=s64",
      "userId": "11031044337039581497"
     },
     "user_tz": -300
    },
    "id": "DRj6dU9zTxNw"
   },
   "outputs": [
    {
     "name": "stdout",
     "output_type": "stream",
     "text": [
      "WARNING:tensorflow:From C:\\Users\\Lenovo\\AppData\\Roaming\\Python\\Python311\\site-packages\\keras\\src\\losses.py:2976: The name tf.losses.sparse_softmax_cross_entropy is deprecated. Please use tf.compat.v1.losses.sparse_softmax_cross_entropy instead.\n",
      "\n"
     ]
    }
   ],
   "source": [
    "import numpy as np\n",
    "data=np.array(data)/255.0\n",
    "data=np.reshape(data,(data.shape[0],img_size_x,img_size_y,1))\n",
    "label=np.array(label)\n",
    "from tensorflow.keras.utils import to_categorical\n",
    "new_label=to_categorical(label)"
   ]
  },
  {
   "cell_type": "markdown",
   "metadata": {
    "id": "at-tkV9EUH8v"
   },
   "source": [
    "# CNN Model"
   ]
  },
  {
   "cell_type": "code",
   "execution_count": 4,
   "metadata": {
    "colab": {
     "base_uri": "https://localhost:8080/"
    },
    "executionInfo": {
     "elapsed": 4,
     "status": "ok",
     "timestamp": 1624607291285,
     "user": {
      "displayName": "NOUMAN AHMAD",
      "photoUrl": "https://lh3.googleusercontent.com/a-/AOh14GhcQ3BpK0-GAMrjLlr__tOqeFHLlT11IEFK0ztPsVY=s64",
      "userId": "11031044337039581497"
     },
     "user_tz": -300
    },
    "id": "w5yQijqzVHJN",
    "outputId": "4aefaeae-b6de-4901-bda8-c70ad98bcac4"
   },
   "outputs": [
    {
     "data": {
      "text/plain": [
       "(3662, 224, 224, 1)"
      ]
     },
     "execution_count": 4,
     "metadata": {},
     "output_type": "execute_result"
    }
   ],
   "source": [
    "data.shape"
   ]
  },
  {
   "cell_type": "code",
   "execution_count": 5,
   "metadata": {
    "colab": {
     "base_uri": "https://localhost:8080/"
    },
    "executionInfo": {
     "elapsed": 6,
     "status": "ok",
     "timestamp": 1624607291786,
     "user": {
      "displayName": "NOUMAN AHMAD",
      "photoUrl": "https://lh3.googleusercontent.com/a-/AOh14GhcQ3BpK0-GAMrjLlr__tOqeFHLlT11IEFK0ztPsVY=s64",
      "userId": "11031044337039581497"
     },
     "user_tz": -300
    },
    "id": "L1JcfG4MdVZ2",
    "outputId": "0973e4d2-595e-4a0a-9264-0a4b2c72ff54"
   },
   "outputs": [
    {
     "data": {
      "text/plain": [
       "(224, 224, 1)"
      ]
     },
     "execution_count": 5,
     "metadata": {},
     "output_type": "execute_result"
    }
   ],
   "source": [
    "data.shape[1:]"
   ]
  },
  {
   "cell_type": "code",
   "execution_count": 6,
   "metadata": {},
   "outputs": [
    {
     "name": "stdout",
     "output_type": "stream",
     "text": [
      "WARNING:tensorflow:From C:\\Users\\Lenovo\\AppData\\Roaming\\Python\\Python311\\site-packages\\keras\\src\\backend.py:873: The name tf.get_default_graph is deprecated. Please use tf.compat.v1.get_default_graph instead.\n",
      "\n",
      "WARNING:tensorflow:From C:\\Users\\Lenovo\\AppData\\Roaming\\Python\\Python311\\site-packages\\keras\\src\\layers\\pooling\\max_pooling2d.py:161: The name tf.nn.max_pool is deprecated. Please use tf.nn.max_pool2d instead.\n",
      "\n"
     ]
    },
    {
     "name": "stderr",
     "output_type": "stream",
     "text": [
      "WARNING:absl:`lr` is deprecated in Keras optimizer, please use `learning_rate` or use the legacy optimizer, e.g.,tf.keras.optimizers.legacy.Adam.\n"
     ]
    }
   ],
   "source": [
    "from keras.models import Sequential\n",
    "from keras.layers import Dense,Activation,Flatten,Dropout\n",
    "from keras.layers import Conv2D,MaxPooling2D\n",
    "import tensorflow as tf\n",
    "from tensorflow.keras import layers\n",
    "\n",
    "model = tf.keras.Sequential([\n",
    "    layers.Conv2D(8, (3,3), padding=\"valid\", input_shape=(224,224,1), activation = 'relu'),\n",
    "    layers.MaxPooling2D(pool_size=(2,2)),\n",
    "    layers.BatchNormalization(),\n",
    "    \n",
    "    layers.Conv2D(16, (3,3), padding=\"valid\", activation = 'relu'),\n",
    "    layers.MaxPooling2D(pool_size=(2,2)),\n",
    "    layers.BatchNormalization(),\n",
    "    \n",
    "    layers.Conv2D(32, (4,4), padding=\"valid\", activation = 'relu'),\n",
    "    layers.MaxPooling2D(pool_size=(2,2)),\n",
    "    layers.BatchNormalization(),\n",
    " \n",
    "    layers.Flatten(),\n",
    "    layers.Dense(32, activation = 'relu'),\n",
    "    layers.Dropout(0.15),\n",
    "    layers.Dense(5, activation = 'softmax')\n",
    "])\n",
    "\n",
    "model.compile(optimizer=tf.keras.optimizers.Adam(lr = 1e-5), loss=tf.keras.losses.categorical_crossentropy, metrics=['acc'])"
   ]
  },
  {
   "cell_type": "code",
   "execution_count": 7,
   "metadata": {
    "colab": {
     "base_uri": "https://localhost:8080/"
    },
    "executionInfo": {
     "elapsed": 5,
     "status": "ok",
     "timestamp": 1624607292959,
     "user": {
      "displayName": "NOUMAN AHMAD",
      "photoUrl": "https://lh3.googleusercontent.com/a-/AOh14GhcQ3BpK0-GAMrjLlr__tOqeFHLlT11IEFK0ztPsVY=s64",
      "userId": "11031044337039581497"
     },
     "user_tz": -300
    },
    "id": "yfCMzZEpcyAM",
    "outputId": "9bca418e-148c-461f-fe89-f3de529231ce"
   },
   "outputs": [
    {
     "name": "stdout",
     "output_type": "stream",
     "text": [
      "Model: \"sequential\"\n",
      "_________________________________________________________________\n",
      " Layer (type)                Output Shape              Param #   \n",
      "=================================================================\n",
      " conv2d (Conv2D)             (None, 222, 222, 8)       80        \n",
      "                                                                 \n",
      " max_pooling2d (MaxPooling2  (None, 111, 111, 8)       0         \n",
      " D)                                                              \n",
      "                                                                 \n",
      " batch_normalization (Batch  (None, 111, 111, 8)       32        \n",
      " Normalization)                                                  \n",
      "                                                                 \n",
      " conv2d_1 (Conv2D)           (None, 109, 109, 16)      1168      \n",
      "                                                                 \n",
      " max_pooling2d_1 (MaxPoolin  (None, 54, 54, 16)        0         \n",
      " g2D)                                                            \n",
      "                                                                 \n",
      " batch_normalization_1 (Bat  (None, 54, 54, 16)        64        \n",
      " chNormalization)                                                \n",
      "                                                                 \n",
      " conv2d_2 (Conv2D)           (None, 51, 51, 32)        8224      \n",
      "                                                                 \n",
      " max_pooling2d_2 (MaxPoolin  (None, 25, 25, 32)        0         \n",
      " g2D)                                                            \n",
      "                                                                 \n",
      " batch_normalization_2 (Bat  (None, 25, 25, 32)        128       \n",
      " chNormalization)                                                \n",
      "                                                                 \n",
      " flatten (Flatten)           (None, 20000)             0         \n",
      "                                                                 \n",
      " dense (Dense)               (None, 32)                640032    \n",
      "                                                                 \n",
      " dropout (Dropout)           (None, 32)                0         \n",
      "                                                                 \n",
      " dense_1 (Dense)             (None, 5)                 165       \n",
      "                                                                 \n",
      "=================================================================\n",
      "Total params: 649893 (2.48 MB)\n",
      "Trainable params: 649781 (2.48 MB)\n",
      "Non-trainable params: 112 (448.00 Byte)\n",
      "_________________________________________________________________\n"
     ]
    }
   ],
   "source": [
    "model.summary()"
   ]
  },
  {
   "cell_type": "markdown",
   "metadata": {
    "id": "Lzs7FPsncqKT"
   },
   "source": [
    "# Splitting data into traning and testing"
   ]
  },
  {
   "cell_type": "code",
   "execution_count": 8,
   "metadata": {
    "executionInfo": {
     "elapsed": 638,
     "status": "ok",
     "timestamp": 1624607300466,
     "user": {
      "displayName": "NOUMAN AHMAD",
      "photoUrl": "https://lh3.googleusercontent.com/a-/AOh14GhcQ3BpK0-GAMrjLlr__tOqeFHLlT11IEFK0ztPsVY=s64",
      "userId": "11031044337039581497"
     },
     "user_tz": -300
    },
    "id": "1oHT4H09UT8-"
   },
   "outputs": [],
   "source": [
    "from sklearn.model_selection import train_test_split\n",
    "x_train,x_test,y_train,y_test=train_test_split(data,new_label,test_size=0.1)"
   ]
  },
  {
   "cell_type": "code",
   "execution_count": 9,
   "metadata": {
    "colab": {
     "base_uri": "https://localhost:8080/"
    },
    "executionInfo": {
     "elapsed": 587864,
     "status": "ok",
     "timestamp": 1624607891060,
     "user": {
      "displayName": "NOUMAN AHMAD",
      "photoUrl": "https://lh3.googleusercontent.com/a-/AOh14GhcQ3BpK0-GAMrjLlr__tOqeFHLlT11IEFK0ztPsVY=s64",
      "userId": "11031044337039581497"
     },
     "user_tz": -300
    },
    "id": "rmpEGWUMUUnh",
    "outputId": "f180ff58-d73f-4376-e4c6-af8c75f3ac04",
    "scrolled": false
   },
   "outputs": [
    {
     "name": "stdout",
     "output_type": "stream",
     "text": [
      "Epoch 1/20\n",
      "WARNING:tensorflow:From C:\\Users\\Lenovo\\AppData\\Roaming\\Python\\Python311\\site-packages\\keras\\src\\utils\\tf_utils.py:492: The name tf.ragged.RaggedTensorValue is deprecated. Please use tf.compat.v1.ragged.RaggedTensorValue instead.\n",
      "\n"
     ]
    },
    {
     "name": "stderr",
     "output_type": "stream",
     "text": [
      "WARNING:tensorflow:From C:\\Users\\Lenovo\\AppData\\Roaming\\Python\\Python311\\site-packages\\keras\\src\\utils\\tf_utils.py:492: The name tf.ragged.RaggedTensorValue is deprecated. Please use tf.compat.v1.ragged.RaggedTensorValue instead.\n",
      "\n"
     ]
    },
    {
     "name": "stdout",
     "output_type": "stream",
     "text": [
      "WARNING:tensorflow:From C:\\Users\\Lenovo\\AppData\\Roaming\\Python\\Python311\\site-packages\\keras\\src\\engine\\base_layer_utils.py:384: The name tf.executing_eagerly_outside_functions is deprecated. Please use tf.compat.v1.executing_eagerly_outside_functions instead.\n",
      "\n"
     ]
    },
    {
     "name": "stderr",
     "output_type": "stream",
     "text": [
      "WARNING:tensorflow:From C:\\Users\\Lenovo\\AppData\\Roaming\\Python\\Python311\\site-packages\\keras\\src\\engine\\base_layer_utils.py:384: The name tf.executing_eagerly_outside_functions is deprecated. Please use tf.compat.v1.executing_eagerly_outside_functions instead.\n",
      "\n"
     ]
    },
    {
     "name": "stdout",
     "output_type": "stream",
     "text": [
      "83/83 [==============================] - 29s 280ms/step - loss: 1.2632 - acc: 0.6047 - val_loss: 1.3150 - val_acc: 0.5083\n",
      "Epoch 2/20\n",
      "83/83 [==============================] - 21s 250ms/step - loss: 1.0249 - acc: 0.6673 - val_loss: 1.3203 - val_acc: 0.5099\n",
      "Epoch 3/20\n",
      "83/83 [==============================] - 21s 253ms/step - loss: 0.9466 - acc: 0.6798 - val_loss: 1.2451 - val_acc: 0.5068\n",
      "Epoch 4/20\n",
      "83/83 [==============================] - 28s 344ms/step - loss: 0.8845 - acc: 0.6897 - val_loss: 1.1624 - val_acc: 0.5918\n",
      "Epoch 5/20\n",
      "83/83 [==============================] - 21s 250ms/step - loss: 0.8780 - acc: 0.6961 - val_loss: 1.1085 - val_acc: 0.6388\n",
      "Epoch 6/20\n",
      "83/83 [==============================] - 20s 243ms/step - loss: 0.8516 - acc: 0.6988 - val_loss: 0.9670 - val_acc: 0.6995\n",
      "Epoch 7/20\n",
      "83/83 [==============================] - 22s 260ms/step - loss: 0.8007 - acc: 0.7128 - val_loss: 0.9634 - val_acc: 0.6980\n",
      "Epoch 8/20\n",
      "83/83 [==============================] - 32s 384ms/step - loss: 0.7705 - acc: 0.7155 - val_loss: 0.8348 - val_acc: 0.7011\n",
      "Epoch 9/20\n",
      "83/83 [==============================] - 34s 417ms/step - loss: 0.7243 - acc: 0.7200 - val_loss: 0.8155 - val_acc: 0.7071\n",
      "Epoch 10/20\n",
      "83/83 [==============================] - 21s 247ms/step - loss: 0.6961 - acc: 0.7272 - val_loss: 0.8140 - val_acc: 0.7102\n",
      "Epoch 11/20\n",
      "83/83 [==============================] - 29s 348ms/step - loss: 0.6728 - acc: 0.7325 - val_loss: 0.8329 - val_acc: 0.7147\n",
      "Epoch 12/20\n",
      "83/83 [==============================] - 21s 248ms/step - loss: 0.6647 - acc: 0.7367 - val_loss: 0.9213 - val_acc: 0.7011\n",
      "Epoch 13/20\n",
      "83/83 [==============================] - 28s 344ms/step - loss: 0.6538 - acc: 0.7367 - val_loss: 1.1083 - val_acc: 0.6980\n",
      "Epoch 14/20\n",
      "83/83 [==============================] - 28s 333ms/step - loss: 0.6180 - acc: 0.7481 - val_loss: 0.9315 - val_acc: 0.7117\n",
      "Epoch 15/20\n",
      "83/83 [==============================] - 20s 244ms/step - loss: 0.5913 - acc: 0.7496 - val_loss: 0.8545 - val_acc: 0.6920\n",
      "Epoch 16/20\n",
      "83/83 [==============================] - 28s 342ms/step - loss: 0.5762 - acc: 0.7557 - val_loss: 1.9889 - val_acc: 0.6434\n",
      "Epoch 17/20\n",
      "83/83 [==============================] - 28s 336ms/step - loss: 0.5544 - acc: 0.7576 - val_loss: 0.9699 - val_acc: 0.7102\n",
      "Epoch 18/20\n",
      "83/83 [==============================] - 21s 251ms/step - loss: 0.5333 - acc: 0.7614 - val_loss: 0.9035 - val_acc: 0.7117\n",
      "Epoch 19/20\n",
      "83/83 [==============================] - 28s 343ms/step - loss: 0.5149 - acc: 0.7762 - val_loss: 0.9903 - val_acc: 0.7132\n",
      "Epoch 20/20\n",
      "83/83 [==============================] - 23s 283ms/step - loss: 0.5186 - acc: 0.7705 - val_loss: 0.8750 - val_acc: 0.6844\n"
     ]
    }
   ],
   "source": [
    "history=model.fit(x_train,y_train,epochs=20,validation_split=0.2)"
   ]
  },
  {
   "cell_type": "code",
   "execution_count": 10,
   "metadata": {
    "colab": {
     "base_uri": "https://localhost:8080/",
     "height": 299
    },
    "executionInfo": {
     "elapsed": 970,
     "status": "ok",
     "timestamp": 1624607893729,
     "user": {
      "displayName": "NOUMAN AHMAD",
      "photoUrl": "https://lh3.googleusercontent.com/a-/AOh14GhcQ3BpK0-GAMrjLlr__tOqeFHLlT11IEFK0ztPsVY=s64",
      "userId": "11031044337039581497"
     },
     "user_tz": -300
    },
    "id": "H1TU9-z2UZlj",
    "outputId": "5441056b-9d6d-4dd7-c3b5-e762abefe44a"
   },
   "outputs": [
    {
     "data": {
      "text/plain": [
       "<matplotlib.legend.Legend at 0x18f085bc210>"
      ]
     },
     "execution_count": 10,
     "metadata": {},
     "output_type": "execute_result"
    },
    {
     "data": {
      "image/png": "[encoded data removed]",
      "text/plain": [
       "<Figure size 640x480 with 1 Axes>"
      ]
     },
     "metadata": {},
     "output_type": "display_data"
    }
   ],
   "source": [
    "import matplotlib.pyplot as plt\n",
    "\n",
    "# # plot the training loss and accuracy\n",
    "N = 20 #number of epochs\n",
    "plt.style.use(\"ggplot\")\n",
    "plt.figure()\n",
    "plt.plot(np.arange(0, N), history.history[\"loss\"], label=\"train_loss\")\n",
    "plt.plot(np.arange(0, N), history.history[\"val_loss\"], label=\"val_loss\")\n",
    "plt.plot(np.arange(0, N), history.history[\"acc\"], label=\"train_acc\")\n",
    "plt.plot(np.arange(0, N), history.history[\"val_acc\"], label=\"val_acc\")\n",
    "plt.title(\"Training Loss and Accuracy\")\n",
    "plt.xlabel(\"Epoch #\")\n",
    "plt.ylabel(\"Loss/Accuracy\")\n",
    "plt.legend(loc=\"center right\")"
   ]
  },
  {
   "cell_type": "code",
   "execution_count": 11,
   "metadata": {},
   "outputs": [
    {
     "name": "stderr",
     "output_type": "stream",
     "text": [
      "C:\\Users\\Lenovo\\AppData\\Roaming\\Python\\Python311\\site-packages\\keras\\src\\engine\\training.py:3103: UserWarning: You are saving your model as an HDF5 file via `model.save()`. This file format is considered legacy. We recommend using instead the native Keras format, e.g. `model.save('my_model.keras')`.\n",
      "  saving_api.save_model(\n"
     ]
    }
   ],
   "source": [
    "model.save('model.h5')"
   ]
  },
  {
   "cell_type": "code",
   "execution_count": 3,
   "metadata": {},
   "outputs": [
    {
     "name": "stdout",
     "output_type": "stream",
     "text": [
      "1/1 [==============================] - 0s 234ms/step\n",
      "Moderate\n"
     ]
    }
   ],
   "source": [
    "import numpy as np\n",
    "from keras.models import load_model\n",
    "from tensorflow.keras.utils import load_img, img_to_array\n",
    "import cv2\n",
    "\n",
    "dic = {0 : 'Mild', 1 : 'Moderate', 2 : 'No_DR', 3 : 'Prolliferate_DR', 4 : 'Severe'}\n",
    "\n",
    "img_size_x=224\n",
    "img_size_y=224\n",
    "model = load_model('model.h5')\n",
    "\n",
    "def predict_label(img_path):\n",
    "    img=cv2.imread(img_path)\n",
    "    gray = cv2.cvtColor(img, cv2.COLOR_BGR2GRAY)  \n",
    "    resized=cv2.resize(gray,(img_size_x,img_size_y)) \n",
    "    i = img_to_array(resized)/255.0\n",
    "    i = i.reshape(1,img_size_x,img_size_y,1)\n",
    "    predict_x=model.predict(i) \n",
    "    p=np.argmax(predict_x,axis=1)\n",
    "    return dic[p[0]]\n",
    "\n",
    "img_path= \"C:\\\\DataSet\\\\archive\\\\ddb1_v02_01\\\\images\\\\diaretdb1_image067.png\"\n",
    "p = predict_label(img_path)\n",
    "print(p)"
   ]
  },
  {
   "cell_type": "code",
   "execution_count": null,
   "metadata": {},
   "outputs": [],
   "source": []
  },
  {
   "cell_type": "code",
   "execution_count": null,
   "metadata": {},
   "outputs": [],
   "source": []
  }
 ],
 "metadata": {
  "accelerator": "GPU",
  "colab": {
   "name": "Model_Training.ipynb",
   "provenance": []
  },
  "kernelspec": {
   "display_name": "Python 3 (ipykernel)",
   "language": "python",
   "name": "python3"
  },
  "language_info": {
   "codemirror_mode": {
    "name": "ipython",
    "version": 3
   },
   "file_extension": ".py",
   "mimetype": "text/x-python",
   "name": "python",
   "nbconvert_exporter": "python",
   "pygments_lexer": "ipython3",
   "version": "3.11.5"
  },
  "vscode": {
   "interpreter": {
    "hash": "36f9e1b585b16813c0b2f85a08ee7989cc3c4676cdd7ae438e526001f31868d7"
   }
  }
 },
 "nbformat": 4,
 "nbformat_minor": 1
}
